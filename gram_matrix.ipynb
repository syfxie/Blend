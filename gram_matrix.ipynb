{
 "cells": [
  {
   "cell_type": "code",
   "execution_count": 1,
   "metadata": {},
   "outputs": [
    {
     "name": "stderr",
     "output_type": "stream",
     "text": [
      "2023-05-14 14:59:22.013742: I tensorflow/core/platform/cpu_feature_guard.cc:193] This TensorFlow binary is optimized with oneAPI Deep Neural Network Library (oneDNN) to use the following CPU instructions in performance-critical operations:  SSE4.1 SSE4.2 AVX AVX2 FMA\n",
      "To enable them in other operations, rebuild TensorFlow with the appropriate compiler flags.\n"
     ]
    }
   ],
   "source": [
    "import tensorflow as tf\n",
    "import numpy as np\n",
    "# calculate algebraic summation in the Gram matrix formuls\n",
    "from tensorflow import linalg\n",
    "# add dimension to tensor\n",
    "from tensorflow import expand_dims\n",
    "# shape of tensor\n",
    "from tensorflow import shape\n",
    "from tensorflow import cast"
   ]
  },
  {
   "attachments": {},
   "cell_type": "markdown",
   "id": "c0bf5e6a",
   "metadata": {},
   "source": [
    "GRAM MATRIX"
   ]
  },
  {
   "cell_type": "code",
   "execution_count": 23,
   "id": "f3954799",
   "metadata": {},
   "outputs": [
    {
     "name": "stdout",
     "output_type": "stream",
     "text": [
      "calculating gram matrix: \n",
      "original shape: \n",
      "tf.Tensor([3 3 3], shape=(3,), dtype=int32)\n",
      "flattened tensor: \n",
      "tf.Tensor([3 9], shape=(2,), dtype=int32)\n",
      "gram matrix: \n"
     ]
    },
    {
     "data": {
      "text/plain": [
       "<tf.Tensor: shape=(1, 3, 3), dtype=int32, numpy=\n",
       "array([[[ 285,  735, 1185],\n",
       "        [ 735, 2085, 3435],\n",
       "        [1185, 3435, 5685]]], dtype=int32)>"
      ]
     },
     "execution_count": 23,
     "metadata": {},
     "output_type": "execute_result"
    }
   ],
   "source": [
    "# test tensor\n",
    "a = tf.constant([\n",
    "  [[1,2,3],    [4,5,6],    [7,8,9]],\n",
    "  [[11,12,13], [14,15,16], [17,18,19]],\n",
    "  [[21,22,23], [24,25,26], [27,28,29]],\n",
    "  ])\n",
    "\n",
    "def gram_matrix(tensor):\n",
    "    '''determines the strength of the correlation between two style features'''\n",
    "    temp = tensor\n",
    "    print(\"calculating gram matrix: \")\n",
    "    \n",
    "    # get shape of input tensor\n",
    "    shape = tf.shape(temp)\n",
    "    print(\"original shape: \")\n",
    "    print(shape)\n",
    "\n",
    "    # flatten tensor into 2D\n",
    "    t_reshape = tf.reshape(temp, [shape[2], shape[1] * shape[0]])\n",
    "    print(\"flattened tensor: \")\n",
    "    print(tf.shape(t_reshape))\n",
    "\n",
    "    # multiply matrix by its transpose\n",
    "    result = tf.matmul(t_reshape, t_reshape, transpose_b=True)\n",
    "    gram_matrix = tf.expand_dims(result, axis=0)\n",
    "    print(\"gram matrix: \")\n",
    "    return gram_matrix\n",
    "\n",
    "gram_matrix(a)\n",
    "\n"
   ]
  },
  {
   "cell_type": "code",
   "execution_count": null,
   "id": "1bc45c8e",
   "metadata": {},
   "outputs": [],
   "source": [
    "\n"
   ]
  },
  {
   "attachments": {},
   "cell_type": "markdown",
   "id": "f786a73e",
   "metadata": {},
   "source": []
  }
 ],
 "metadata": {
  "kernelspec": {
   "display_name": "jupyterlab-ext",
   "language": "python",
   "name": "python3"
  },
  "language_info": {
   "codemirror_mode": {
    "name": "ipython",
    "version": 3
   },
   "file_extension": ".py",
   "mimetype": "text/x-python",
   "name": "python",
   "nbconvert_exporter": "python",
   "pygments_lexer": "ipython3",
   "version": "3.10.11"
  }
 },
 "nbformat": 4,
 "nbformat_minor": 5
}
